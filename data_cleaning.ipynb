{
 "cells": [
  {
   "cell_type": "code",
   "execution_count": 28,
   "metadata": {},
   "outputs": [],
   "source": [
    "import pandas as pd\n",
    "import matplotlib.pyplot as plt \n",
    "import numpy as np"
   ]
  },
  {
   "cell_type": "code",
   "execution_count": 4,
   "metadata": {},
   "outputs": [],
   "source": [
    "pd.set_option('display.max_columns', None)"
   ]
  },
  {
   "cell_type": "code",
   "execution_count": 8,
   "metadata": {},
   "outputs": [],
   "source": [
    "df = pd.read_csv('data/final_data/combined_time_features.csv', index_col=0)"
   ]
  },
  {
   "cell_type": "code",
   "execution_count": 13,
   "metadata": {},
   "outputs": [
    {
     "name": "stdout",
     "output_type": "stream",
     "text": [
      "ride_duration\n",
      "(-1.001, 255.198]     16600\n",
      "(255.198, 510.375]       17\n",
      "(510.375, 765.552]        6\n",
      "(765.552, 1020.73]        3\n",
      "Name: count, dtype: int64\n"
     ]
    }
   ],
   "source": [
    "ride_duration_counts = df['ride_duration'].value_counts()\n",
    "\n",
    "# Compute intervals using pd.cut\n",
    "intervals = pd.cut(df['ride_duration'], bins=4)\n",
    "\n",
    "# Display the intervals\n",
    "print(intervals.value_counts())\n",
    "\n",
    "\n"
   ]
  },
  {
   "cell_type": "code",
   "execution_count": 18,
   "metadata": {},
   "outputs": [
    {
     "name": "stdout",
     "output_type": "stream",
     "text": [
      "ride_duration\n",
      "(-0.198, 7.287]       6955\n",
      "(7.287, 14.554]       5124\n",
      "(14.554, 21.821]      2199\n",
      "(21.821, 29.088]      1024\n",
      "(29.088, 36.355]       558\n",
      "(36.355, 43.622]       321\n",
      "(43.622, 50.889]       143\n",
      "(50.889, 58.156]        96\n",
      "(58.156, 65.423]        47\n",
      "(65.423, 72.69]         35\n",
      "(72.69, 79.957]         25\n",
      "(101.758, 109.025]      13\n",
      "(94.491, 101.758]       12\n",
      "(79.957, 87.224]         8\n",
      "(116.292, 123.559]       6\n",
      "(87.224, 94.491]         6\n",
      "(109.025, 116.292]       5\n",
      "(130.826, 138.093]       4\n",
      "(123.559, 130.826]       3\n",
      "(145.36, 152.627]        3\n",
      "(159.894, 167.161]       3\n",
      "(138.093, 145.36]        2\n",
      "(167.161, 174.428]       2\n",
      "(152.627, 159.894]       1\n",
      "(174.428, 181.695]       1\n",
      "(188.962, 196.229]       1\n",
      "(196.229, 203.496]       1\n",
      "(203.496, 210.763]       1\n",
      "(210.763, 218.03]        1\n",
      "(181.695, 188.962]       0\n",
      "Name: count, dtype: int64\n"
     ]
    }
   ],
   "source": [
    "# removing data duration > 255.198\n",
    "df = df[df['ride_duration'] < 255.198]\n",
    "# Compute intervals using pd.cut\n",
    "intervals = pd.cut(df['ride_duration'], bins=30)\n",
    "\n",
    "# Display the intervals\n",
    "print(intervals.value_counts())\n",
    "\n",
    "# plt.bar(intervals.value_counts()[)\n"
   ]
  },
  {
   "cell_type": "code",
   "execution_count": 20,
   "metadata": {},
   "outputs": [],
   "source": [
    "ride_duration_category_list = []\n",
    "for duration in df['ride_duration']:\n",
    "    if duration<=7.287:\n",
    "        ride_duration_category_list.append('Short')\n",
    "    elif duration>7.287 and duration<=14.554:\n",
    "        ride_duration_category_list.append('Normal')\n",
    "    elif duration>14.554 and duration<=21.821:\n",
    "        ride_duration_category_list.append('Long')\n",
    "    elif duration>21.821:\n",
    "        ride_duration_category_list.append('Very Long')\n",
    "\n",
    "df['ride_duration_category'] = ride_duration_category_list\n",
    "\n",
    "    "
   ]
  },
  {
   "cell_type": "code",
   "execution_count": 22,
   "metadata": {},
   "outputs": [],
   "source": [
    "final_df = df.drop(columns=['end_day_of_week', 'end_month', 'end_season'])"
   ]
  },
  {
   "cell_type": "code",
   "execution_count": 23,
   "metadata": {},
   "outputs": [
    {
     "name": "stdout",
     "output_type": "stream",
     "text": [
      "<class 'pandas.core.frame.DataFrame'>\n",
      "Index: 16600 entries, 0 to 16773\n",
      "Data columns (total 23 columns):\n",
      " #   Column                  Non-Null Count  Dtype  \n",
      "---  ------                  --------------  -----  \n",
      " 0   ride_id                 16600 non-null  object \n",
      " 1   rideable_type           16600 non-null  object \n",
      " 2   started_at              16600 non-null  object \n",
      " 3   ended_at                16600 non-null  object \n",
      " 4   start_station_name      16600 non-null  object \n",
      " 5   start_station_id        16600 non-null  object \n",
      " 6   end_station_name        16600 non-null  object \n",
      " 7   end_station_id          16600 non-null  object \n",
      " 8   start_lat               16600 non-null  float64\n",
      " 9   start_lng               16600 non-null  float64\n",
      " 10  end_lat                 16600 non-null  float64\n",
      " 11  end_lng                 16600 non-null  float64\n",
      " 12  member_casual           16600 non-null  object \n",
      " 13  ride_duration           16600 non-null  float64\n",
      " 14  start_zip               16402 non-null  float64\n",
      " 15  price                   16503 non-null  float64\n",
      " 16  end_zip                 16378 non-null  float64\n",
      " 17  start_day_of_week       16600 non-null  object \n",
      " 18  start_hour              16600 non-null  int64  \n",
      " 19  end_hour                16600 non-null  int64  \n",
      " 20  start_month             16600 non-null  int64  \n",
      " 21  start_season            16600 non-null  object \n",
      " 22  ride_duration_category  16600 non-null  object \n",
      "dtypes: float64(8), int64(3), object(12)\n",
      "memory usage: 3.0+ MB\n"
     ]
    }
   ],
   "source": [
    "final_df.info()"
   ]
  },
  {
   "cell_type": "code",
   "execution_count": 31,
   "metadata": {},
   "outputs": [
    {
     "name": "stdout",
     "output_type": "stream",
     "text": [
      "start_zip\n",
      "10019.0    788\n",
      "10009.0    745\n",
      "10011.0    713\n",
      "10003.0    670\n",
      "10002.0    642\n",
      "          ... \n",
      "11418.0      1\n",
      "10278.0      1\n",
      "10154.0      1\n",
      "10472.0      1\n",
      "11212.0      1\n",
      "Name: count, Length: 133, dtype: int64\n"
     ]
    }
   ],
   "source": [
    "final_df.shape\n",
    "\n",
    "\n",
    "vals = final_df['start_zip'].value_counts()\n",
    "\n",
    "print(vals)"
   ]
  },
  {
   "cell_type": "code",
   "execution_count": 33,
   "metadata": {},
   "outputs": [],
   "source": [
    "final_df.to_csv('data/final_data/final_data.csv')"
   ]
  },
  {
   "cell_type": "code",
   "execution_count": 38,
   "metadata": {},
   "outputs": [
    {
     "data": {
      "text/plain": [
       "ride_id                   198\n",
       "rideable_type             198\n",
       "started_at                198\n",
       "ended_at                  198\n",
       "start_station_name        198\n",
       "start_station_id          198\n",
       "end_station_name          198\n",
       "end_station_id            198\n",
       "start_lat                 198\n",
       "start_lng                 198\n",
       "end_lat                   198\n",
       "end_lng                   198\n",
       "member_casual             198\n",
       "ride_duration             198\n",
       "start_zip                 198\n",
       "price                     293\n",
       "end_zip                   409\n",
       "start_day_of_week         198\n",
       "start_hour                198\n",
       "end_hour                  198\n",
       "start_month               198\n",
       "start_season              198\n",
       "ride_duration_category    198\n",
       "dtype: int64"
      ]
     },
     "execution_count": 38,
     "metadata": {},
     "output_type": "execute_result"
    }
   ],
   "source": [
    "df2 = pd.read_csv('data/final_data/final_data.csv', index_col=0)\n",
    "\n",
    "df2.isna().sum()"
   ]
  },
  {
   "cell_type": "code",
   "execution_count": 39,
   "metadata": {},
   "outputs": [
    {
     "data": {
      "text/plain": [
       "(16097, 23)"
      ]
     },
     "execution_count": 39,
     "metadata": {},
     "output_type": "execute_result"
    }
   ],
   "source": [
    "df_cleaned = df2.dropna()\n",
    "df_cleaned.shape"
   ]
  },
  {
   "cell_type": "code",
   "execution_count": 41,
   "metadata": {},
   "outputs": [],
   "source": [
    "df_cleaned.to_csv('final_data_cleaned.csv',index=False)"
   ]
  }
 ],
 "metadata": {
  "kernelspec": {
   "display_name": "marketing_analytics",
   "language": "python",
   "name": "python3"
  },
  "language_info": {
   "codemirror_mode": {
    "name": "ipython",
    "version": 3
   },
   "file_extension": ".py",
   "mimetype": "text/x-python",
   "name": "python",
   "nbconvert_exporter": "python",
   "pygments_lexer": "ipython3",
   "version": "3.9.13"
  }
 },
 "nbformat": 4,
 "nbformat_minor": 2
}
